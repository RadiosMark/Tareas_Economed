{
 "cells": [
  {
   "cell_type": "markdown",
   "id": "fd0b35bd",
   "metadata": {},
   "source": [
    "# Modelo de Optimización del Sistema Eléctrico - Escenario 2016\n",
    "\n",
    "Este notebook implementa un modelo de optimización para el despacho de generación eléctrica utilizando Pyomo y el solver HiGHS. El modelo analiza la generación óptima por tecnología considerando diferentes bloques de carga."
   ]
  },
  {
   "cell_type": "markdown",
   "id": "020fda4d",
   "metadata": {},
   "source": [
    "## 1. Importar Librerías y Configuración Inicial"
   ]
  },
  {
   "cell_type": "code",
   "execution_count": 1,
   "id": "db003fce",
   "metadata": {},
   "outputs": [],
   "source": [
    "import pandas as pd\n",
    "import highspy as hgs\n",
    "import pyomo.environ as pyo\n",
    "from pyomo.opt import SolverFactory\n",
    "\n",
    "tolerancia = 0.00001\n",
    "perdida = 0.04"
   ]
  },
  {
   "cell_type": "markdown",
   "id": "e965661d",
   "metadata": {},
   "source": [
    "## 2. Cargar y Procesar Datos de Centrales Eléctricas"
   ]
  },
  {
   "cell_type": "code",
   "execution_count": 2,
   "id": "bc09c36e",
   "metadata": {},
   "outputs": [],
   "source": [
    "# Leer el archivo CSV\n",
    "df_centrales_ex = pd.read_csv('centrales_ex.csv')\n",
    "df_centrales_ex = df_centrales_ex.fillna(0)"
   ]
  },
  {
   "cell_type": "markdown",
   "id": "f1a7bd7c",
   "metadata": {},
   "source": [
    "## 3. Configurar Índice de Parámetros de Centrales"
   ]
  },
  {
   "cell_type": "code",
   "execution_count": null,
   "id": "1a80ac8a",
   "metadata": {},
   "outputs": [],
   "source": [
    "param_centrales = df_centrales_ex.set_index(['planta_n'])"
   ]
  },
  {
   "cell_type": "markdown",
   "id": "a35e5759",
   "metadata": {},
   "source": [
    "## 4. Definir Parámetros del Sistema y Constantes"
   ]
  },
  {
   "cell_type": "code",
   "execution_count": null,
   "id": "9e65e594",
   "metadata": {},
   "outputs": [],
   "source": [
    "# Tipos de Centrales\n",
    "t_centrales = ['biomasa', 'carbon','cc-gnl', 'petroleo_diesel', 'hidro', 'hidro_conv', 'minihidro','eolica','solar', 'geotermia']\n",
    "\n",
    "# Para la modelación de la hidroelectricidad\n",
    "dispnibilidad_hidro = [0.8215,0.6297,0.561]\n",
    "\n",
    "costo_falla = 505.5 # mills/kWh = USD/MWh"
   ]
  },
  {
   "cell_type": "markdown",
   "id": "2dbe1497",
   "metadata": {},
   "source": [
    "## 5. Definir Índices de Plantas y Bloques de Carga"
   ]
  },
  {
   "cell_type": "code",
   "execution_count": null,
   "id": "84bee7dc",
   "metadata": {},
   "outputs": [],
   "source": [
    "index_plantas = param_centrales.index.tolist()\n",
    "dic_bloques = {'bloque_1': {'duracion': 1200 , 'demanda' : 7756},\n",
    "               'bloque_2': {'duracion': 4152 , 'demanda' : 5966}, \n",
    "               'bloque_3': {'duracion': 3408 , 'demanda' : 4773}}"
   ]
  },
  {
   "cell_type": "markdown",
   "id": "89cf541f",
   "metadata": {},
   "source": [
    "## 6. Crear Modelo y Definir Conjuntos y Parámetros"
   ]
  },
  {
   "cell_type": "code",
   "execution_count": null,
   "id": "b659ec52",
   "metadata": {},
   "outputs": [],
   "source": [
    "# MODELO\n",
    "model = pyo.ConcreteModel()\n",
    "\n",
    "# CONJUNTOS\n",
    "model.CENTRALES = pyo.Set(initialize=index_plantas)\n",
    "model.BLOQUES = pyo.Set(initialize=['bloque_1','bloque_2','bloque_3'])\n",
    "\n",
    "# PARAMETROS\n",
    "model.param_centrales = pyo.Param(model.CENTRALES,\n",
    "                                  initialize=param_centrales.to_dict(orient='index'),\n",
    "                                  within=pyo.Any)\n",
    "\n",
    "model.param_bloques = pyo.Param(model.BLOQUES, initialize=dic_bloques, within=pyo.Any)\n",
    "\n",
    "# VARIABLES\n",
    "model.generacion = pyo.Var(model.CENTRALES, model.BLOQUES, within=pyo.NonNegativeReals) \n",
    "model.falla = pyo.Var(model.BLOQUES, within=pyo.NonNegativeReals)"
   ]
  },
  {
   "cell_type": "markdown",
   "id": "7f71f328",
   "metadata": {},
   "source": [
    "## 7. Definir Variables de Decisión y Funciones de Restricciones"
   ]
  },
  {
   "cell_type": "code",
   "execution_count": null,
   "id": "b3450698",
   "metadata": {},
   "outputs": [],
   "source": [
    "# RESTRICCIONES\n",
    "def fd_hidro(bloque):\n",
    "    return dispnibilidad_hidro[0] if bloque == 'bloque_1' else \\\n",
    "           dispnibilidad_hidro[1] if bloque == 'bloque_2' else \\\n",
    "           dispnibilidad_hidro[2]\n",
    "\n",
    "def balance_demanda(model, bloque):\n",
    "    # Energía neta generada (todas las tecnologías) multiplicado por su factor de planta\n",
    "    suma = sum(model.generacion[planta, bloque] for planta in model.CENTRALES)\n",
    "\n",
    "    return (suma + model.falla[bloque])*(1000/(1+perdida)) >= model.param_bloques[bloque]['demanda'] * model.param_bloques[bloque]['duracion']\n",
    "\n",
    "def max_gen(model, planta, bloque):\n",
    "    tec = model.param_centrales[planta]['tecnologia']\n",
    "    efi = 1.0\n",
    "    if tec in ['hidro', 'hidro_conv', 'minihidro']:\n",
    "        disp = fd_hidro(bloque)\n",
    "    else:\n",
    "        disp = model.param_centrales[planta]['disponibilidad'] or 1.0\n",
    "        efi = model.param_centrales[planta]['eficiencia'] or 1.0\n",
    "\n",
    "        # generacion está en GWh (multiplicamos por 1000  para hacer el cambio a MWh), potencia_neta_mw en MW, duracion en horas\n",
    "    return model.generacion[planta, bloque]*1000 <= model.param_centrales[planta]['potencia_neta_mw'] * model.param_bloques[bloque]['duracion'] * disp"
   ]
  },
  {
   "cell_type": "markdown",
   "id": "4e623832",
   "metadata": {},
   "source": [
    "## 8. Aplicar Restricciones al Modelo"
   ]
  },
  {
   "cell_type": "code",
   "execution_count": null,
   "id": "da1971c4",
   "metadata": {},
   "outputs": [],
   "source": [
    "# Restricciones al modelo\n",
    "model.demanda_constraint = pyo.Constraint(model.BLOQUES, rule=balance_demanda)\n",
    "model.max_gen_constraint = pyo.Constraint(model.CENTRALES, model.BLOQUES, rule=max_gen)"
   ]
  },
  {
   "cell_type": "markdown",
   "id": "97f3ca2f",
   "metadata": {},
   "source": [
    "## 9. Definir Expresiones de Costos y Función Objetivo"
   ]
  },
  {
   "cell_type": "code",
   "execution_count": null,
   "id": "74d56910",
   "metadata": {},
   "outputs": [],
   "source": [
    "# operación EXISTENTES  (recordar que generacion está en GWh)\n",
    "model.costo_op_ex = pyo.Expression(\n",
    "    expr=sum(\n",
    "        model.generacion[planta, bloque] * 1000 * # pasamos a MWh\n",
    "        (model.param_centrales[planta]['costo_variable_nc'] )\n",
    "        #+model.param_centrales[planta]['costo_variable_t'])\n",
    "        for planta in model.CENTRALES \n",
    "        for bloque in model.BLOQUES\n",
    "    )\n",
    ")\n",
    "\n",
    "# costo FALLAS (recordar que falla está en GWh)\n",
    "model.costo_fallas = pyo.Expression(\n",
    "    expr=sum(model.falla[bloque] * 1000 * # pasamos a MWh\n",
    "             costo_falla for bloque in model.BLOQUES)\n",
    ")\n",
    "\n",
    "# FUNCION OBJETIVO FINAL\n",
    "model.obj = pyo.Objective(\n",
    "    expr = model.costo_op_ex + model.costo_fallas,\n",
    "    sense = pyo.minimize\n",
    ")"
   ]
  },
  {
   "cell_type": "markdown",
   "id": "5efc7839",
   "metadata": {},
   "source": [
    "## 10. Resolver el Modelo de Optimización"
   ]
  },
  {
   "cell_type": "code",
   "execution_count": null,
   "id": "dd958ad5",
   "metadata": {},
   "outputs": [],
   "source": [
    "# Resolver el modelo\n",
    "solver = pyo.SolverFactory('highs')\n",
    "\n",
    "solver.options['mip_rel_gap'] = tolerancia\n",
    "\n",
    "results = solver.solve(model, tee=True)\n",
    "\n",
    "# Ver resultados\n",
    "print(f\"Status: {results}\")"
   ]
  },
  {
   "cell_type": "markdown",
   "id": "5f0f6b66",
   "metadata": {},
   "source": [
    "## 11. Análisis de Resultados por Planta Individual (Opcional)"
   ]
  },
  {
   "cell_type": "code",
   "execution_count": null,
   "id": "d4c17d25",
   "metadata": {},
   "outputs": [],
   "source": [
    "# Ver los resultados de la generación por planta sumando los 3 bloques\n",
    "# en el formato Tipo | Ubicacion | Generacion total\n",
    "\"\"\" for planta in model.CENTRALES:\n",
    "    gen_total = sum(model.generacion[planta, bloque].value for bloque in model.BLOQUES)\n",
    "    print(f'Generación total de {planta}: {gen_total} GWh')\n",
    " \"\"\""
   ]
  },
  {
   "cell_type": "markdown",
   "id": "c65c310e",
   "metadata": {},
   "source": [
    "## 12. Análisis de Resultados por Tipo de Tecnología"
   ]
  },
  {
   "cell_type": "code",
   "execution_count": null,
   "id": "f72c3f3f",
   "metadata": {},
   "outputs": [],
   "source": [
    "# ver resultados por tipo de central\n",
    "for tec in t_centrales:\n",
    "    gen_tec = sum(model.generacion[planta, bloque].value \n",
    "                  for planta in model.CENTRALES if model.param_centrales[planta]['tecnologia'] == tec\n",
    "                  for bloque in model.BLOQUES)\n",
    "    print(f'Generación total de tecnología {tec}: {gen_tec} GWh')"
   ]
  },
  {
   "cell_type": "markdown",
   "id": "1cf81ad8",
   "metadata": {},
   "source": [
    "## 13. Análisis de Generación Total del Sistema y Balance de Carga"
   ]
  },
  {
   "cell_type": "code",
   "execution_count": null,
   "id": "3ce7fab5",
   "metadata": {},
   "outputs": [],
   "source": [
    "#sumatoria todas las generaciones\n",
    "total = 0\n",
    "for bloque in model.BLOQUES:\n",
    "    gen_bloque = sum(model.generacion[planta, bloque].value for planta in model.CENTRALES)\n",
    "    falla_bloque = model.falla[bloque].value\n",
    "    print(f'Generación total en {bloque}: {gen_bloque} GWh, Falla: {falla_bloque} GWh')\n",
    "    total += gen_bloque + falla_bloque\n",
    "\n",
    "print(f'Generación total en el sistema (incluyendo fallas): {total} GWh')"
   ]
  }
 ],
 "metadata": {
  "kernelspec": {
   "display_name": "Python 3",
   "language": "python",
   "name": "python3"
  },
  "language_info": {
   "codemirror_mode": {
    "name": "ipython",
    "version": 3
   },
   "file_extension": ".py",
   "mimetype": "text/x-python",
   "name": "python",
   "nbconvert_exporter": "python",
   "pygments_lexer": "ipython3",
   "version": "3.13.1"
  }
 },
 "nbformat": 4,
 "nbformat_minor": 5
}
