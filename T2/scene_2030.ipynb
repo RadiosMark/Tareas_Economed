{
 "cells": [
  {
   "cell_type": "markdown",
   "id": "86def1ee",
   "metadata": {},
   "source": [
    "# Modelo 2030 - Conversión de script a Notebook\n",
    "Este notebook contiene la conversión del script `scene_2030.py` a celdas Jupyter organizadas: imports, carga de datos, parámetros, definición del modelo Pyomo, resolución y resultados.\n",
    "\n",
    "Asegúrate de tener instaladas las dependencias: `pandas`, `pyomo`, y el solver `HiGHS` (o ajustar el solver si no está disponible)."
   ]
  },
  {
   "cell_type": "markdown",
   "id": "8b013407",
   "metadata": {},
   "source": [
    "## 1. Importar Librerías y Configuración Inicial"
   ]
  },
  {
   "cell_type": "code",
   "execution_count": 41,
   "id": "c82dad7e",
   "metadata": {},
   "outputs": [],
   "source": [
    "# Imports\n",
    "import pandas as pd\n",
    "import highspy as hgs\n",
    "import pyomo.environ as pyo\n",
    "from pyomo.opt import SolverFactory\n",
    "\n",
    "# Parámetros de configuración\n",
    "tolerancia = 0.00001\n",
    "perdida = 0.04"
   ]
  },
  {
   "cell_type": "markdown",
   "id": "c8261257",
   "metadata": {},
   "source": [
    "## 2. Cargar y Procesar Datos de Centrales Eléctricas"
   ]
  },
  {
   "cell_type": "code",
   "execution_count": 42,
   "id": "98b3c9aa",
   "metadata": {},
   "outputs": [],
   "source": [
    "# Cargar archivos CSV (asegúrate que los archivos existan en el mismo directorio)\n",
    "df_centrales_ex = pd.read_csv('centrales_ex_ED_CS.csv')\n",
    "df_centrales_ex = df_centrales_ex.fillna(0)\n",
    "\n",
    "df_centrales_nuevas = pd.read_csv('centrales_n_ED_CS.csv')\n",
    "df_centrales_nuevas = df_centrales_nuevas.fillna(0)\n",
    "\n",
    "# Preparar parámetros (index por nombre de planta)\n",
    "param_centrales = df_centrales_ex.set_index(['planta_n'])\n",
    "param_centrales_nuevas = df_centrales_nuevas.set_index(['planta_n'])\n",
    "\n",
    "\n",
    "normas_emision = {'carbon': {'MP': 0.99 , 'SOx' : 0.95, 'NOx' : 0.0},\n",
    "               'cc-gnl': {'MP': 0.95 , 'SOx' : 0.0, 'NOx' : 0.9}, \n",
    "               'petroleo_diesel': {'MP': 0.95 , 'SOx' : 0.0, 'NOx' : 0.0}}\n",
    "# Revisar las primeras filas\n",
    "#display(df_centrales_ex.head())\n",
    "#display(df_centrales_nuevas.head())"
   ]
  },
  {
   "cell_type": "code",
   "execution_count": 94,
   "id": "b858cab4",
   "metadata": {},
   "outputs": [
    {
     "name": "stdout",
     "output_type": "stream",
     "text": [
      "['combo_1', 'combo_2', 'combo_3', 'combo_4', 'combo_5', 'combo_6', 'combo_7', 'combo_8', 'combo_9', 'combo_10', 'combo_11', 'combo_12', 'combo_13', 'combo_14', 'combo_15', 'combo_16', 'combo_17', 'combo_18', 'combo_19', 'combo_20', 'combo_21', 'combo_22', 'combo_23', 'combo_24', 'combo_25', 'combo_26', 'combo_27', 'combo_28', 'combo_29', 'combo_30', 'combo_31', 'combo_32', 'combo_33', 'combo_34', 'combo_35', 'combo_36', 'combo_37', 'combo_38', 'combo_39', 'combo_40', 'combo_41', 'combo_42', 'combo_43', 'combo_44', 'combo_45', 'combo_46', 'combo_47', 'combo_48', 'combo_49', 'combo_50', 'combo_51', 'combo_52', 'combo_53', 'combo_54', 'combo_55', 'combo_56', 'combo_57', 'combo_58', 'combo_59', 'combo_60', 'combo_61', 'combo_62', 'combo_63', 'combo_64']\n"
     ]
    }
   ],
   "source": [
    "# Cargar el DataFrame\n",
    "df_combos = pd.read_csv('combos.csv')\n",
    "\n",
    "# Reemplazar NaN con None\n",
    "df_combos = df_combos.where(pd.notnull(df_combos), None)\n",
    "\n",
    "# Convertir el DataFrame a una lista de listas\n",
    "lista_combos = df_combos.values.tolist()\n",
    "\n",
    "dic_combos_ex = {}\n",
    "for planta in param_centrales.index.to_list():\n",
    "    dic_combos_ex[planta] = lista_combos\n",
    "\n",
    "dic_combos_nuevas = {}\n",
    "for planta in param_centrales_nuevas.index.to_list():\n",
    "    dic_combos_nuevas[planta] = lista_combos\n",
    "\n",
    "index_combos = []\n",
    "for i in range(1, 65):\n",
    "    index_combos.append(f'combo_{i}')\n",
    "\n",
    "print(index_combos)"
   ]
  },
  {
   "cell_type": "code",
   "execution_count": null,
   "id": "5d597306",
   "metadata": {},
   "outputs": [],
   "source": [
    "# Equipos de abatimiento\n",
    "df_equipo_mp = pd.read_csv('abatimiento/equipo_mp.csv')\n",
    "df_equipo_mp = df_equipo_mp.fillna(0)\n",
    "equipo_mp = df_equipo_mp.set_index(['Equipo_MP'])\n",
    "\n",
    "df_equipo_nox = pd.read_csv('abatimiento/equipo_nox.csv')\n",
    "df_equipo_nox = df_equipo_nox.fillna(0)\n",
    "equipo_nox = df_equipo_nox.set_index(['Equipo_NOx'])\n",
    "\n",
    "df_equipo_sox = pd.read_csv('abatimiento/equipo_sox.csv')\n",
    "df_equipo_sox = df_equipo_sox.fillna(0)\n",
    "equipo_sox = df_equipo_sox.set_index(['Equipo_SOx'])\n",
    "\n",
    "# Daño ambiental (costo social)\n",
    "\n",
    "df_dano_ambiental = pd.read_csv('dano_ambiental.csv')\n",
    "df_dano_ambiental = df_dano_ambiental.fillna(0)\n",
    "dano_ambiental = df_dano_ambiental.set_index(['Ubicacion'])\n",
    "\n",
    "display(equipo_mp.head())\n",
    "display(equipo_nox.head())\n",
    "display(equipo_sox.head())\n",
    "display(dano_ambiental.head())"
   ]
  },
  {
   "cell_type": "markdown",
   "id": "afa9ffbf",
   "metadata": {},
   "source": [
    "## 4. Definir Parámetros del Sistema y Constantes"
   ]
  },
  {
   "cell_type": "code",
   "execution_count": null,
   "id": "d24b20ac",
   "metadata": {},
   "outputs": [],
   "source": [
    "# Tipos de Centrales\n",
    "t_centrales = ['biomasa', 'carbon','cc-gnl', 'petroleo_diesel', 'hidro', 'minihidro','eolica','solar', 'geotermia']\n",
    "t_ernc = ['eolica','solar', 'geotermia','minihidro','hidro' ]\n",
    "dispnibilidad_hidro = [0.8215,0.6297,0.561]\n",
    "costo_falla = 505.5\n",
    "year = 2030 - 2016\n",
    "\n",
    "# Constantes para pasar de GWh a Toneladas de combustible (calculado en el excel)\n",
    "conversion_GWh_a_ton = {'petroleo_diesel': 79.6808152,\n",
    "                         'cc-gnl' : 61.96031117,\n",
    "                            'carbon': 132.3056959}\n",
    "\n",
    "## Se supone que si cada uno de estos factores lo multiplicamos GWh * factor * emisiones descontroladas\n",
    "## nos da las emisiones en kg de cada contaminante (MP, SOx, NOx, CO2) \n",
    "## luego hay que pasarlo a toneladas dividiendo por 1000\n",
    "## y finalmente para pasarlo a costo social hay que multiplicarlo por el costo social de cada contaminante\n"
   ]
  },
  {
   "cell_type": "markdown",
   "id": "1ef7ff50",
   "metadata": {},
   "source": [
    "## 5. Definir Índices de Plantas y Bloques de Carga"
   ]
  },
  {
   "cell_type": "code",
   "execution_count": 31,
   "id": "f36d7e5e",
   "metadata": {},
   "outputs": [
    {
     "name": "stdout",
     "output_type": "stream",
     "text": [
      "Plantillas existentes: ['planta_1', 'planta_2', 'planta_3', 'planta_4', 'planta_5']\n",
      "Plantillas nuevas: ['planta_1', 'planta_2', 'planta_3', 'planta_4', 'planta_5']\n"
     ]
    }
   ],
   "source": [
    "# Índices Centrales\n",
    "index_plantas = param_centrales.index.tolist()\n",
    "index_plantas_nuevas = param_centrales_nuevas.index.tolist()  # demanda en MW (en la pasada tenia 12k en vez de 1200 xd)\n",
    "\n",
    "# Índices Equipos de Abatimiento\n",
    "index_equipo_mp = equipo_mp.index.tolist() # MP-1, MP-2, MP-3\n",
    "index_equipo_nox = equipo_nox.index.tolist() # NOx-1, NOx-2, NOx-3\n",
    "index_equipo_sox = equipo_sox.index.tolist() # SOx-1, SOx-2, SOx-3\n",
    "\n",
    "dic_bloques = {'bloque_1': {'duracion': 1200 , 'demanda' : 10233.87729},\n",
    "               'bloque_2': {'duracion': 4152 , 'demanda' : 7872.0103}, \n",
    "               'bloque_3': {'duracion': 3408 , 'demanda' : 6297.872136}}\n",
    "\n",
    "normas_emision = {'carbon': {'MP': 0.99 , 'SOx' : 0.95, 'NOx' : 0.0},\n",
    "               'cc-gnl': {'MP': 0.95 , 'SOx' : 0.0, 'NOx' : 0.9}, \n",
    "               'petroleo_diesel': {'MP': 0.95 , 'SOx' : 0.0, 'NOx' : 0.0}}\n",
    "\n",
    "vida_util = 30 # todos los equipos tienen vida util de 30 años \n",
    "\n",
    "# Mostrar resumen\n",
    "print('Plantillas existentes:', index_plantas[:5])\n",
    "print('Plantillas nuevas:', index_plantas_nuevas[:5])"
   ]
  },
  {
   "cell_type": "code",
   "execution_count": 76,
   "id": "0ac3e7c5",
   "metadata": {},
   "outputs": [
    {
     "name": "stdout",
     "output_type": "stream",
     "text": [
      "{'planta_1': {'tecnologia': 'biomasa', 'ubicacion': 'itahue', 'potencia_neta_mw': 60, 'eficiencia': 0.0, 'costo_variable_nc': 0.0, 'disponibilidad': 0.9, 'costo_variable_t': 48.7, 'costo_var_comb_16_usd_mwh': 0.0, 'ED_MP_kg_ton': 0.0, 'ED_SOx_kg_ton': 0.0, 'ED_NOx_kg_ton': 0.0, 'ED_CO2_kg_ton': 0.0, 'CS_MP_USD_ton': 527, 'CS_SOx_USD_ton': 211, 'CS_NOx_USD_ton': 105, 'CS_CO2_USD_ton': 50}, 'planta_2': {'tecnologia': 'biomasa', 'ubicacion': 'charrua', 'potencia_neta_mw': 204, 'eficiencia': 0.0, 'costo_variable_nc': 0.0, 'disponibilidad': 0.9, 'costo_variable_t': 44.5, 'costo_var_comb_16_usd_mwh': 0.0, 'ED_MP_kg_ton': 0.0, 'ED_SOx_kg_ton': 0.0, 'ED_NOx_kg_ton': 0.0, 'ED_CO2_kg_ton': 0.0, 'CS_MP_USD_ton': 527, 'CS_SOx_USD_ton': 211, 'CS_NOx_USD_ton': 105, 'CS_CO2_USD_ton': 50}, 'planta_3': {'tecnologia': 'carbon', 'ubicacion': 'huasco', 'potencia_neta_mw': 575, 'eficiencia': 0.376, 'costo_variable_nc': 1.9, 'disponibilidad': 0.88, 'costo_variable_t': 0.0, 'costo_var_comb_16_usd_mwh': 22.7, 'ED_MP_kg_ton': 44.61, 'ED_SOx_kg_ton': 22.8, 'ED_NOx_kg_ton': 16.5, 'ED_CO2_kg_ton': 2385.29, 'CS_MP_USD_ton': 527, 'CS_SOx_USD_ton': 211, 'CS_NOx_USD_ton': 105, 'CS_CO2_USD_ton': 50}, 'planta_4': {'tecnologia': 'carbon', 'ubicacion': 'quillota', 'potencia_neta_mw': 812, 'eficiencia': 0.35, 'costo_variable_nc': 3.1, 'disponibilidad': 0.88, 'costo_variable_t': 0.0, 'costo_var_comb_16_usd_mwh': 24.4, 'ED_MP_kg_ton': 44.61, 'ED_SOx_kg_ton': 22.8, 'ED_NOx_kg_ton': 16.5, 'ED_CO2_kg_ton': 2385.29, 'CS_MP_USD_ton': 3161, 'CS_SOx_USD_ton': 1581, 'CS_NOx_USD_ton': 2107, 'CS_CO2_USD_ton': 50}, 'planta_5': {'tecnologia': 'carbon', 'ubicacion': 'coronel', 'potencia_neta_mw': 806, 'eficiencia': 0.38, 'costo_variable_nc': 4.1, 'disponibilidad': 0.87, 'costo_variable_t': 0.0, 'costo_var_comb_16_usd_mwh': 22.4, 'ED_MP_kg_ton': 44.61, 'ED_SOx_kg_ton': 22.8, 'ED_NOx_kg_ton': 16.5, 'ED_CO2_kg_ton': 2385.29, 'CS_MP_USD_ton': 3161, 'CS_SOx_USD_ton': 1581, 'CS_NOx_USD_ton': 2107, 'CS_CO2_USD_ton': 50}, 'planta_6': {'tecnologia': 'cc-gnl', 'ubicacion': 'quillota', 'potencia_neta_mw': 731, 'eficiencia': 0.454, 'costo_variable_nc': 3.4, 'disponibilidad': 0.93, 'costo_variable_t': 0.0, 'costo_var_comb_16_usd_mwh': 60.1, 'ED_MP_kg_ton': 0.181, 'ED_SOx_kg_ton': 0.014, 'ED_NOx_kg_ton': 5.59, 'ED_CO2_kg_ton': 2856.0, 'CS_MP_USD_ton': 3161, 'CS_SOx_USD_ton': 1581, 'CS_NOx_USD_ton': 2107, 'CS_CO2_USD_ton': 50}, 'planta_7': {'tecnologia': 'petroleo_diesel', 'ubicacion': 'diego_de_almagro', 'potencia_neta_mw': 439, 'eficiencia': 0.28, 'costo_variable_nc': 11.5, 'disponibilidad': 0.9, 'costo_variable_t': 0.0, 'costo_var_comb_16_usd_mwh': 158.4, 'ED_MP_kg_ton': 0.28, 'ED_SOx_kg_ton': 23.08, 'ED_NOx_kg_ton': 1.42, 'ED_CO2_kg_ton': 3163.16, 'CS_MP_USD_ton': 527, 'CS_SOx_USD_ton': 211, 'CS_NOx_USD_ton': 105, 'CS_CO2_USD_ton': 50}, 'planta_8': {'tecnologia': 'petroleo_diesel', 'ubicacion': 'cardones', 'potencia_neta_mw': 169, 'eficiencia': 0.335, 'costo_variable_nc': 16.5, 'disponibilidad': 0.9, 'costo_variable_t': 0.0, 'costo_var_comb_16_usd_mwh': 132.4, 'ED_MP_kg_ton': 0.28, 'ED_SOx_kg_ton': 23.08, 'ED_NOx_kg_ton': 1.42, 'ED_CO2_kg_ton': 3163.16, 'CS_MP_USD_ton': 527, 'CS_SOx_USD_ton': 211, 'CS_NOx_USD_ton': 105, 'CS_CO2_USD_ton': 50}, 'planta_9': {'tecnologia': 'petroleo_diesel', 'ubicacion': 'los_vilos', 'potencia_neta_mw': 203, 'eficiencia': 0.358, 'costo_variable_nc': 12.5, 'disponibilidad': 0.44, 'costo_variable_t': 0.0, 'costo_var_comb_16_usd_mwh': 123.9, 'ED_MP_kg_ton': 0.28, 'ED_SOx_kg_ton': 23.08, 'ED_NOx_kg_ton': 1.42, 'ED_CO2_kg_ton': 3163.16, 'CS_MP_USD_ton': 3161, 'CS_SOx_USD_ton': 1581, 'CS_NOx_USD_ton': 2107, 'CS_CO2_USD_ton': 50}, 'planta_10': {'tecnologia': 'petroleo_diesel', 'ubicacion': 'huasco', 'potencia_neta_mw': 58, 'eficiencia': 0.221, 'costo_variable_nc': 11.6, 'disponibilidad': 0.61, 'costo_variable_t': 0.0, 'costo_var_comb_16_usd_mwh': 200.7, 'ED_MP_kg_ton': 0.28, 'ED_SOx_kg_ton': 23.08, 'ED_NOx_kg_ton': 1.42, 'ED_CO2_kg_ton': 3163.16, 'CS_MP_USD_ton': 527, 'CS_SOx_USD_ton': 211, 'CS_NOx_USD_ton': 105, 'CS_CO2_USD_ton': 50}, 'planta_11': {'tecnologia': 'petroleo_diesel', 'ubicacion': 'pan_de_azucar', 'potencia_neta_mw': 97, 'eficiencia': 0.306, 'costo_variable_nc': 24.0, 'disponibilidad': 0.9, 'costo_variable_t': 0.0, 'costo_var_comb_16_usd_mwh': 145.0, 'ED_MP_kg_ton': 0.28, 'ED_SOx_kg_ton': 23.08, 'ED_NOx_kg_ton': 1.42, 'ED_CO2_kg_ton': 3163.16, 'CS_MP_USD_ton': 527, 'CS_SOx_USD_ton': 211, 'CS_NOx_USD_ton': 105, 'CS_CO2_USD_ton': 50}, 'planta_12': {'tecnologia': 'petroleo_diesel', 'ubicacion': 'quillota', 'potencia_neta_mw': 700, 'eficiencia': 0.407, 'costo_variable_nc': 5.9, 'disponibilidad': 0.92, 'costo_variable_t': 0.0, 'costo_var_comb_16_usd_mwh': 109.0, 'ED_MP_kg_ton': 0.28, 'ED_SOx_kg_ton': 23.08, 'ED_NOx_kg_ton': 1.42, 'ED_CO2_kg_ton': 3163.16, 'CS_MP_USD_ton': 3161, 'CS_SOx_USD_ton': 1581, 'CS_NOx_USD_ton': 2107, 'CS_CO2_USD_ton': 50}, 'planta_13': {'tecnologia': 'petroleo_diesel', 'ubicacion': 'valparaiso', 'potencia_neta_mw': 71, 'eficiencia': 0.204, 'costo_variable_nc': 6.1, 'disponibilidad': 0.58, 'costo_variable_t': 0.0, 'costo_var_comb_16_usd_mwh': 217.4, 'ED_MP_kg_ton': 0.28, 'ED_SOx_kg_ton': 23.08, 'ED_NOx_kg_ton': 1.42, 'ED_CO2_kg_ton': 3163.16, 'CS_MP_USD_ton': 3161, 'CS_SOx_USD_ton': 1581, 'CS_NOx_USD_ton': 2107, 'CS_CO2_USD_ton': 50}, 'planta_14': {'tecnologia': 'petroleo_diesel', 'ubicacion': 'RM', 'potencia_neta_mw': 368, 'eficiencia': 0.28, 'costo_variable_nc': 3.7, 'disponibilidad': 0.91, 'costo_variable_t': 0.0, 'costo_var_comb_16_usd_mwh': 158.4, 'ED_MP_kg_ton': 0.28, 'ED_SOx_kg_ton': 23.08, 'ED_NOx_kg_ton': 1.42, 'ED_CO2_kg_ton': 3163.16, 'CS_MP_USD_ton': 3161, 'CS_SOx_USD_ton': 1581, 'CS_NOx_USD_ton': 2107, 'CS_CO2_USD_ton': 50}, 'planta_15': {'tecnologia': 'petroleo_diesel', 'ubicacion': 'itahue', 'potencia_neta_mw': 134, 'eficiencia': 0.278, 'costo_variable_nc': 14.6, 'disponibilidad': 0.9, 'costo_variable_t': 0.0, 'costo_var_comb_16_usd_mwh': 159.6, 'ED_MP_kg_ton': 0.28, 'ED_SOx_kg_ton': 23.08, 'ED_NOx_kg_ton': 1.42, 'ED_CO2_kg_ton': 3163.16, 'CS_MP_USD_ton': 527, 'CS_SOx_USD_ton': 211, 'CS_NOx_USD_ton': 105, 'CS_CO2_USD_ton': 50}, 'planta_16': {'tecnologia': 'petroleo_diesel', 'ubicacion': 'charrua', 'potencia_neta_mw': 1043, 'eficiencia': 0.359, 'costo_variable_nc': 8.6, 'disponibilidad': 0.92, 'costo_variable_t': 0.0, 'costo_var_comb_16_usd_mwh': 123.6, 'ED_MP_kg_ton': 0.28, 'ED_SOx_kg_ton': 23.08, 'ED_NOx_kg_ton': 1.42, 'ED_CO2_kg_ton': 3163.16, 'CS_MP_USD_ton': 527, 'CS_SOx_USD_ton': 211, 'CS_NOx_USD_ton': 105, 'CS_CO2_USD_ton': 50}, 'planta_17': {'tecnologia': 'petroleo_diesel', 'ubicacion': 'valdivia', 'potencia_neta_mw': 135, 'eficiencia': 0.296, 'costo_variable_nc': 3.6, 'disponibilidad': 0.9, 'costo_variable_t': 0.0, 'costo_var_comb_16_usd_mwh': 149.9, 'ED_MP_kg_ton': 0.28, 'ED_SOx_kg_ton': 23.08, 'ED_NOx_kg_ton': 1.42, 'ED_CO2_kg_ton': 3163.16, 'CS_MP_USD_ton': 527, 'CS_SOx_USD_ton': 211, 'CS_NOx_USD_ton': 105, 'CS_CO2_USD_ton': 50}, 'planta_18': {'tecnologia': 'petroleo_diesel', 'ubicacion': 'puerto_montt', 'potencia_neta_mw': 139, 'eficiencia': 0.361, 'costo_variable_nc': 21.0, 'disponibilidad': 0.9, 'costo_variable_t': 0.0, 'costo_var_comb_16_usd_mwh': 122.9, 'ED_MP_kg_ton': 0.28, 'ED_SOx_kg_ton': 23.08, 'ED_NOx_kg_ton': 1.42, 'ED_CO2_kg_ton': 3163.16, 'CS_MP_USD_ton': 527, 'CS_SOx_USD_ton': 211, 'CS_NOx_USD_ton': 105, 'CS_CO2_USD_ton': 50}, 'planta_19': {'tecnologia': 'hidro', 'ubicacion': 'charrua', 'potencia_neta_mw': 5571, 'eficiencia': 0.0, 'costo_variable_nc': 0.0, 'disponibilidad': 0.6, 'costo_variable_t': 0.0, 'costo_var_comb_16_usd_mwh': 0.0, 'ED_MP_kg_ton': 0.0, 'ED_SOx_kg_ton': 0.0, 'ED_NOx_kg_ton': 0.0, 'ED_CO2_kg_ton': 0.0, 'CS_MP_USD_ton': 527, 'CS_SOx_USD_ton': 211, 'CS_NOx_USD_ton': 105, 'CS_CO2_USD_ton': 50}, 'planta_20': {'tecnologia': 'eolica', 'ubicacion': 'los_vilos', 'potencia_neta_mw': 192, 'eficiencia': 0.0, 'costo_variable_nc': 10.0, 'disponibilidad': 0.25, 'costo_variable_t': 0.0, 'costo_var_comb_16_usd_mwh': 0.0, 'ED_MP_kg_ton': 0.0, 'ED_SOx_kg_ton': 0.0, 'ED_NOx_kg_ton': 0.0, 'ED_CO2_kg_ton': 0.0, 'CS_MP_USD_ton': 3161, 'CS_SOx_USD_ton': 1581, 'CS_NOx_USD_ton': 2107, 'CS_CO2_USD_ton': 50}, 'planta_21': {'tecnologia': 'solar', 'ubicacion': 'huasco', 'potencia_neta_mw': 200, 'eficiencia': 0.0, 'costo_variable_nc': 10.0, 'disponibilidad': 0.25, 'costo_variable_t': 0.0, 'costo_var_comb_16_usd_mwh': 0.0, 'ED_MP_kg_ton': 0.0, 'ED_SOx_kg_ton': 0.0, 'ED_NOx_kg_ton': 0.0, 'ED_CO2_kg_ton': 0.0, 'CS_MP_USD_ton': 527, 'CS_SOx_USD_ton': 211, 'CS_NOx_USD_ton': 105, 'CS_CO2_USD_ton': 50}}\n"
     ]
    }
   ],
   "source": [
    "dic = param_centrales.to_dict(orient='index')\n",
    "print(dic)"
   ]
  },
  {
   "cell_type": "code",
   "execution_count": 29,
   "id": "eb51892d",
   "metadata": {},
   "outputs": [
    {
     "name": "stdout",
     "output_type": "stream",
     "text": [
      "{'MP': {'MP-1': {'Eficiencia_(p.u.)': 0.9, 'Inversión_($/kW)': 116, 'Costo_variable_($/MWh)': 1.5}, 'MP-2': {'Eficiencia_(p.u.)': 0.98, 'Inversión_($/kW)': 158, 'Costo_variable_($/MWh)': 2.0}, 'MP-3': {'Eficiencia_(p.u.)': 0.99, 'Inversión_($/kW)': 274, 'Costo_variable_($/MWh)': 2.0}}, 'NOx': {'NOx-1': {'Eficiencia_(p.u.)': 0.7, 'Inversión_($/kW)': 41, 'Costo_variable_($/MWh)': 1.5}, 'NOx-2': {'Eficiencia_(p.u.)': 0.9, 'Inversión_($/kW)': 42, 'Costo_variable_($/MWh)': 2.0}, 'NOx-3': {'Eficiencia_(p.u.)': 0.95, 'Inversión_($/kW)': 63, 'Costo_variable_($/MWh)': 2.0}}, 'SOx': {'SOx-1': {'Eficiencia_(p.u.)': 0.6, 'Inversión_($/kW)': 211, 'Costo_variable_($/MWh)': 1.5}, 'SOx-2': {'Eficiencia_(p.u.)': 0.9, 'Inversión_($/kW)': 263, 'Costo_variable_($/MWh)': 2.0}, 'SOx-3': {'Eficiencia_(p.u.)': 0.95, 'Inversión_($/kW)': 316, 'Costo_variable_($/MWh)': 2.0}}}\n",
      "Equipos para MP:\n",
      "  MP-1: {'Eficiencia_(p.u.)': 0.9, 'Inversión_($/kW)': 116, 'Costo_variable_($/MWh)': 1.5}\n",
      "  MP-2: {'Eficiencia_(p.u.)': 0.98, 'Inversión_($/kW)': 158, 'Costo_variable_($/MWh)': 2.0}\n",
      "  MP-3: {'Eficiencia_(p.u.)': 0.99, 'Inversión_($/kW)': 274, 'Costo_variable_($/MWh)': 2.0}\n",
      "Equipos para NOx:\n",
      "  NOx-1: {'Eficiencia_(p.u.)': 0.7, 'Inversión_($/kW)': 41, 'Costo_variable_($/MWh)': 1.5}\n",
      "  NOx-2: {'Eficiencia_(p.u.)': 0.9, 'Inversión_($/kW)': 42, 'Costo_variable_($/MWh)': 2.0}\n",
      "  NOx-3: {'Eficiencia_(p.u.)': 0.95, 'Inversión_($/kW)': 63, 'Costo_variable_($/MWh)': 2.0}\n",
      "Equipos para SOx:\n",
      "  SOx-1: {'Eficiencia_(p.u.)': 0.6, 'Inversión_($/kW)': 211, 'Costo_variable_($/MWh)': 1.5}\n",
      "  SOx-2: {'Eficiencia_(p.u.)': 0.9, 'Inversión_($/kW)': 263, 'Costo_variable_($/MWh)': 2.0}\n",
      "  SOx-3: {'Eficiencia_(p.u.)': 0.95, 'Inversión_($/kW)': 316, 'Costo_variable_($/MWh)': 2.0}\n"
     ]
    }
   ],
   "source": [
    "dic_equipo = {'MP':equipo_mp.to_dict(orient='index'), \n",
    "              'NOx':equipo_nox.to_dict(orient='index'), \n",
    "              'SOx':equipo_sox.to_dict(orient='index')}\n",
    "print(dic_equipo)\n",
    "\n",
    "#print escalonado para mostrar  lo que hay en cada diccionario\n",
    "for key in dic_equipo:\n",
    "    print(f\"Equipos para {key}:\")\n",
    "    for equipo, valores in dic_equipo[key].items():\n",
    "        print(f\"  {equipo}: {valores}\")\n",
    "        \n"
   ]
  },
  {
   "cell_type": "markdown",
   "id": "40ca1931",
   "metadata": {},
   "source": [
    "## 6. Crear Modelo y Definir Conjuntos | Parámetros | Variables"
   ]
  },
  {
   "cell_type": "code",
   "execution_count": null,
   "id": "6c083c4f",
   "metadata": {},
   "outputs": [],
   "source": [
    "# Construcción del modelo Pyomo\n",
    "model = pyo.ConcreteModel()\n",
    "\n",
    "# Conjuntos\n",
    "model.CENTRALES = pyo.Set(initialize=index_plantas)\n",
    "model.CENTRALES_NUEVAS = pyo.Set(initialize=index_plantas_nuevas)\n",
    "model.BLOQUES = pyo.Set(initialize=['bloque_1','bloque_2','bloque_3'])\n",
    "# creamos el conjunto de 64 combos \n",
    "model.COMBOS_EX = pyo.Set(initialize=index_combos)  # Conjunto de plantas existentes\n",
    "model.COMBOS_NUEVAS = pyo.Set(initialize=index_combos)  # Conjunto de plantas nuevas\n",
    "\n",
    "\n",
    "# Parámetros en formato dict (Pyomo Any para permitir dicts anidados)\n",
    "model.param_centrales = pyo.Param(model.CENTRALES, initialize=param_centrales.to_dict(orient='index'), within=pyo.Any)\n",
    "model.param_centrales_nuevas = pyo.Param(model.CENTRALES_NUEVAS, initialize=param_centrales_nuevas.to_dict(orient='index'), within=pyo.Any)\n",
    "model.param_bloques = pyo.Param(model.BLOQUES, initialize=dic_bloques, within=pyo.Any)\n",
    "model.param_combos_ex = pyo.Param(model.I_EX, initialize=dic_combos_ex, within=pyo.Any)\n",
    "model.param_combos_nuevas = pyo.Param(model.I_NUEVAS, initialize=dic_combos_nuevas, within=pyo.Any)\n",
    "\n",
    "# Variables(todas las generaciones son en GWh y la potencia en MW)\n",
    "model.generacion_ex = pyo.Var(model.CENTRALES, model.BLOQUES, within=pyo.NonNegativeReals)\n",
    "model.generacion_nuevas = pyo.Var(model.CENTRALES_NUEVAS, model.BLOQUES, within=pyo.NonNegativeReals)\n",
    "model.potencia_in_nuevas = pyo.Var(model.CENTRALES_NUEVAS, within=pyo.NonNegativeReals)\n",
    "model.falla = pyo.Var(model.BLOQUES, within=pyo.NonNegativeReals)\n",
    "\n",
    "model.eleccion_combo_ex = pyo.Var(model.CENTRALES, model.COMBOS_EX, within=pyo.Binary)\n",
    "model.eleccion_combo_nuevas = pyo.Var(model.CENTRALES_NUEVAS, model.COMBOS_NUEVAS, within=pyo.Binary)\n"
   ]
  },
  {
   "cell_type": "markdown",
   "id": "d8416947",
   "metadata": {},
   "source": [
    "## 7. Definir Funciones de Restricciones"
   ]
  },
  {
   "cell_type": "code",
   "execution_count": null,
   "id": "58816f0f",
   "metadata": {},
   "outputs": [],
   "source": [
    "# Restricciones\n",
    "def fd_hidro(bloque):\n",
    "    if bloque == 'bloque_1':\n",
    "        return dispnibilidad_hidro[0]\n",
    "    elif bloque == 'bloque_2':\n",
    "        return dispnibilidad_hidro[1]\n",
    "    else:\n",
    "        return dispnibilidad_hidro[2]\n",
    "\n",
    "def balance_demanda(model, bloque):\n",
    "    gen_ex = sum(model.generacion_ex[planta, bloque] for planta in model.CENTRALES)\n",
    "    gen_new = sum(model.generacion_nuevas[planta, bloque] for planta in model.CENTRALES_NUEVAS)\n",
    "    return (gen_ex + gen_new + model.falla[bloque]) * (1000/(1+perdida)) >= model.param_bloques[bloque]['demanda'] * model.param_bloques[bloque]['duracion']\n",
    "                                                    # el 1000 es para convertir de GWh a MWh\n",
    "\n",
    "def max_gen_ex(model, planta, bloque):\n",
    "    tec = model.param_centrales[planta]['tecnologia']\n",
    "    efi = 1.0\n",
    "    if tec in ['hidro', 'hidro_conv', 'minihidro']:\n",
    "        disp = fd_hidro(bloque)\n",
    "    else:\n",
    "        disp = model.param_centrales[planta]['disponibilidad']\n",
    "        efi = model.param_centrales[planta]['eficiencia'] or 1.0\n",
    "    # generacion está en GWh (multiplicamos por 1000  para hacer el cambio a MWh), potencia_neta_mw en MW, duracion en horas\n",
    "    return model.generacion_ex[planta, bloque]*1000 <= model.param_centrales[planta]['potencia_neta_mw'] * model.param_bloques[bloque]['duracion'] * disp\n",
    "\n",
    "def max_gen_nuevas(model, planta, bloque):\n",
    "    tec = model.param_centrales_nuevas[planta]['tecnologia']\n",
    "    efi = 1.0\n",
    "    if tec in ['hidro', 'minihidro']:\n",
    "        disp = fd_hidro(bloque)\n",
    "    else:\n",
    "        disp = model.param_centrales_nuevas[planta]['disponibilidad']\n",
    "        efi = model.param_centrales_nuevas[planta]['eficiencia'] or 1.0\n",
    "    # generacion está en GWh (multiplicamos por 1000  para hacer el cambio a MWh), potencia_neta_mw en MW, duracion en horas\n",
    "    return model.generacion_nuevas[planta, bloque]*1000 <= model.potencia_in_nuevas[planta] * model.param_bloques[bloque]['duracion'] * disp\n",
    "\n",
    "def max_capacidad_nuevas(model, planta):\n",
    "    tec = model.param_centrales_nuevas[planta]['tecnologia']\n",
    "    if tec in t_ernc:\n",
    "        limite = model.param_centrales_nuevas[planta]['maxima_restriccion_2030_MW']\n",
    "        return model.potencia_in_nuevas[planta] <= limite if limite > 0 else pyo.Constraint.Skip # Si el límite es 0, no hay restricción\n",
    "    else:\n",
    "        return pyo.Constraint.Skip\n",
    "    \n",
    "def anualidad(r, n): # r es tasa de descuento, n es vida util en años\n",
    "    return r / (1 - (1 + r)**(-n))\n",
    "\n",
    "# Adjuntar restricciones\n",
    "model.demanda_constraint = pyo.Constraint(model.BLOQUES, rule=balance_demanda)\n",
    "model.max_gen_constraint = pyo.Constraint(model.CENTRALES, model.BLOQUES, rule=max_gen_ex)\n",
    "model.max_gen_nuevas_constraint = pyo.Constraint(model.CENTRALES_NUEVAS, model.BLOQUES, rule=max_gen_nuevas)\n",
    "model.max_capacidad_nuevas_constraint = pyo.Constraint(model.CENTRALES_NUEVAS, rule=max_capacidad_nuevas)"
   ]
  },
  {
   "cell_type": "markdown",
   "id": "09477dff",
   "metadata": {},
   "source": [
    "## 9. Definir Expresiones de Costos y Función Objetivo"
   ]
  },
  {
   "cell_type": "code",
   "execution_count": 110,
   "id": "445daaf2",
   "metadata": {},
   "outputs": [],
   "source": [
    "# Función objetivo (expresiones)\n",
    "\n",
    "# Costo operación (costos variables) 2030\n",
    "model.op_ex = pyo.Expression(expr=sum(model.generacion_ex[planta, bloque] * 1000 * # pasamos a MWh\n",
    "                                (model.param_centrales[planta]['costo_variable_nc']\n",
    "                                + model.param_centrales[planta]['costo_variable_t']\n",
    "                                + model.param_centrales[planta]['costo_var_comb_16_usd_mwh']) \n",
    "                                for planta in model.CENTRALES \n",
    "                                for bloque in model.BLOQUES)) # esto queda en USD\n",
    "\n",
    "model.op_new = pyo.Expression(expr=sum(model.generacion_nuevas[planta, bloque] * 1000 * # pasamos a MWh\n",
    "                                (model.param_centrales_nuevas[planta]['cvnc_usd_MWh'] \n",
    "                                + model.param_centrales_nuevas[planta]['linea_peaje_usd_MWh']\n",
    "                                + model.param_centrales_nuevas[planta]['costo_var_comb_16_usd_mwh'])  \n",
    "                                for planta in model.CENTRALES_NUEVAS \n",
    "                                for bloque in model.BLOQUES)) # esto queda en USD\n",
    "\n",
    "# Costo inversión (anualidad) 2030\n",
    "model.inv_new = pyo.Expression(expr=sum(model.potencia_in_nuevas[planta]* \n",
    "                                        anualidad(model.param_centrales_nuevas[planta]['tasa_descuento'], model.param_centrales_nuevas[planta]['vida_util_anos']) * \n",
    "                                        model.param_centrales_nuevas[planta]['inversion_usd_kW_neto']* 1000 # pasamos a MW\n",
    "                                        for planta in model.CENTRALES_NUEVAS)) # esto queda en USD/año\n",
    "\n",
    "# costo FALLAS (recordar que falla está en GWh)\n",
    "model.costo_fallas = pyo.Expression(expr=sum(model.falla[bloque] * 1000 * # pasamos a MWh\n",
    "                            costo_falla for bloque in model.BLOQUES))\n",
    "\n",
    "r_df = 0.01\n",
    "df_2016_2030 = 1 / (1 + r_df)**(year)\n",
    "\n",
    "# minimizar (costo operacion + inversion + costo falla)\n",
    "model.obj = pyo.Objective(expr = df_2016_2030 * (model.op_ex + model.op_new + model.inv_new + model.costo_fallas), sense = pyo.minimize)"
   ]
  },
  {
   "cell_type": "markdown",
   "id": "317bb957",
   "metadata": {},
   "source": [
    "## 10. Resolver el Modelo de Optimización"
   ]
  },
  {
   "cell_type": "code",
   "execution_count": 111,
   "id": "0e9b5203",
   "metadata": {},
   "outputs": [
    {
     "name": "stdout",
     "output_type": "stream",
     "text": [
      "Running HiGHS 1.11.0 (git hash: 364c83a): Copyright (c) 2025 HiGHS under MIT licence terms\n",
      "LP   has 131 rows; 146 cols; 314 nonzeros\n",
      "Coefficient ranges:\n",
      "  Matrix [1e+00, 4e+03]\n",
      "  Cost   [9e+03, 4e+05]\n",
      "  Bound  [0e+00, 0e+00]\n",
      "  RHS    [2e+02, 3e+07]\n",
      "Presolving model\n",
      "63 rows, 143 cols, 243 nonzeros  0s\n",
      "63 rows, 140 cols, 240 nonzeros  0s\n",
      "Presolve : Reductions: rows 63(-68); columns 140(-6); elements 240(-74)\n",
      "Solving the presolved LP\n",
      "Using EKK dual simplex solver - serial\n",
      "  Iteration        Objective     Infeasibilities num(sum)\n",
      "          0     0.0000000000e+00 Pr: 3(4.3901e+07) 0s\n",
      "         40     1.5338548176e+09 Pr: 0(0); Du: 0(1.42109e-14) 0s\n",
      "Solving the original LP from the solution after postsolve\n",
      "Model status        : Optimal\n",
      "Simplex   iterations: 40\n",
      "Objective value     :  1.5338548176e+09\n",
      "P-D objective error :  1.5543751357e-16\n",
      "HiGHS run time      :          0.00\n",
      "Status: \n",
      "Problem: \n",
      "- Lower bound: 1533854817.584971\n",
      "  Upper bound: 1533854817.584971\n",
      "  Number of objectives: 1\n",
      "  Number of constraints: nan\n",
      "  Number of variables: nan\n",
      "  Sense: minimize\n",
      "Solver: \n",
      "- Status: ok\n",
      "  Termination condition: optimal\n",
      "  Termination message: TerminationCondition.convergenceCriteriaSatisfied\n",
      "Solution: \n",
      "- number of solutions: 0\n",
      "  number of solutions displayed: 0\n",
      "\n"
     ]
    }
   ],
   "source": [
    "# Resolver el modelo\n",
    "solver = pyo.SolverFactory('highs')\n",
    "solver.options['mip_rel_gap'] = tolerancia\n",
    "results = solver.solve(model, tee=True)\n",
    "print(f\"Status: {results}\")"
   ]
  },
  {
   "cell_type": "markdown",
   "id": "25ca6100",
   "metadata": {},
   "source": [
    "## 11. Análisis de Resultados por Tipo de Tecnología"
   ]
  },
  {
   "cell_type": "code",
   "execution_count": 112,
   "id": "30068233",
   "metadata": {},
   "outputs": [
    {
     "name": "stdout",
     "output_type": "stream",
     "text": [
      "Generación total de tecnología biomasa: 1271.6352000000002 GWh\n",
      "Generación total de tecnología carbon: 34581.53984929151 GWh\n",
      "Generación total de tecnología cc-gnl: 815.796 GWh\n",
      "Generación total de tecnología petroleo_diesel: 849.5926435200009 GWh\n",
      "Generación total de tecnología hidro: 30708.4795704 GWh\n",
      "Generación total de tecnología minihidro: 0.0 GWh\n",
      "Generación total de tecnología eolica: 420.48 GWh\n",
      "Generación total de tecnología solar: 438.0 GWh\n",
      "Generación total de tecnología geotermia: 0.0 GWh\n"
     ]
    }
   ],
   "source": [
    "# ver resultados por tipo de central\n",
    "for tec in t_centrales:\n",
    "    gen_tec = sum(model.generacion_ex[planta, bloque].value \n",
    "                  for planta in model.CENTRALES if model.param_centrales[planta]['tecnologia'] == tec\n",
    "                  for bloque in model.BLOQUES)\n",
    "    gen_tec_nuevas = sum(model.generacion_nuevas[planta, bloque].value \n",
    "                  for planta in model.CENTRALES_NUEVAS if model.param_centrales_nuevas[planta]['tecnologia'] == tec\n",
    "                  for bloque in model.BLOQUES)\n",
    "    gen_tec += gen_tec_nuevas\n",
    "    print(f'Generación total de tecnología {tec}: {gen_tec} GWh')"
   ]
  },
  {
   "cell_type": "markdown",
   "id": "78962f89",
   "metadata": {},
   "source": [
    "## 12. Análisis de Generación Total del Sistema y Balance de Carga"
   ]
  },
  {
   "cell_type": "code",
   "execution_count": 113,
   "id": "e4ec056b",
   "metadata": {},
   "outputs": [
    {
     "name": "stdout",
     "output_type": "stream",
     "text": [
      "Generación total en bloque_1: 12771.87885792 GWh, Falla: 0.0 GWh\n",
      "Generación total en bloque_2: 33991.970236224 GWh, Falla: 0.0 GWh\n",
      "Generación total en bloque_3: 22321.67416906752 GWh, Falla: 0.0 GWh\n",
      "Generación total en el sistema (incluyendo fallas): 69085.52326321151 GWh\n"
     ]
    }
   ],
   "source": [
    "#sumatoria todas las generaciones\n",
    "total = 0\n",
    "for bloque in model.BLOQUES:\n",
    "    gen_ex_bloque = sum(model.generacion_ex[planta, bloque].value for planta in model.CENTRALES)\n",
    "    gen_new_bloque = sum(model.generacion_nuevas[planta, bloque].value for planta in model.CENTRALES_NUEVAS)\n",
    "    falla_bloque = model.falla[bloque].value\n",
    "    print(f'Generación total en {bloque}: {gen_ex_bloque+gen_new_bloque} GWh, Falla: {falla_bloque} GWh')\n",
    "    total += gen_ex_bloque + gen_new_bloque + falla_bloque\n",
    "\n",
    "print(f'Generación total en el sistema (incluyendo fallas): {total} GWh')"
   ]
  }
 ],
 "metadata": {
  "kernelspec": {
   "display_name": "Python 3",
   "language": "python",
   "name": "python3"
  },
  "language_info": {
   "codemirror_mode": {
    "name": "ipython",
    "version": 3
   },
   "file_extension": ".py",
   "mimetype": "text/x-python",
   "name": "python",
   "nbconvert_exporter": "python",
   "pygments_lexer": "ipython3",
   "version": "3.13.3"
  }
 },
 "nbformat": 4,
 "nbformat_minor": 5
}
