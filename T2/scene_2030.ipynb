{
 "cells": [
  {
   "cell_type": "markdown",
   "id": "86def1ee",
   "metadata": {},
   "source": [
    "# Modelo 2030 - Conversión de script a Notebook\n",
    "Este notebook contiene la conversión del script `scene_2030.py` a celdas Jupyter organizadas: imports, carga de datos, parámetros, definición del modelo Pyomo, resolución y resultados.\n",
    "\n",
    "Asegúrate de tener instaladas las dependencias: `pandas`, `pyomo`, y el solver `HiGHS` (o ajustar el solver si no está disponible)."
   ]
  },
  {
   "cell_type": "code",
   "execution_count": 1,
   "id": "c82dad7e",
   "metadata": {},
   "outputs": [],
   "source": [
    "# Imports\n",
    "import pandas as pd\n",
    "import highspy as hgs\n",
    "import pyomo.environ as pyo\n",
    "from pyomo.opt import SolverFactory\n",
    "\n",
    "# Parámetros de configuración\n",
    "tolerancia = 0.00001\n",
    "perdida = 0.04"
   ]
  },
  {
   "cell_type": "code",
   "execution_count": 3,
   "id": "98b3c9aa",
   "metadata": {},
   "outputs": [],
   "source": [
    "# Cargar archivos CSV (asegúrate que los archivos existan en el mismo directorio)\n",
    "df_centrales_ex = pd.read_csv('centrales_ex.csv')\n",
    "df_centrales_ex = df_centrales_ex.fillna(0)\n",
    "\n",
    "df_centrales_nuevas = pd.read_csv('centrales_n.csv')\n",
    "df_centrales_nuevas = df_centrales_nuevas.fillna(0)\n",
    "\n",
    "# Revisar las primeras filas\n",
    "#display(df_centrales_ex.head())\n",
    "#display(df_centrales_nuevas.head())"
   ]
  },
  {
   "cell_type": "code",
   "execution_count": null,
   "id": "18644ffb",
   "metadata": {},
   "outputs": [],
   "source": [
    "# Preparar parámetros (index por nombre de planta)\n",
    "param_centrales = df_centrales_ex.set_index(['planta_n'])\n",
    "param_centrales_nuevas = df_centrales_nuevas.set_index(['planta_n'])\n",
    "\n",
    "# Tipos y constantes del modelo\n",
    "t_centrales = ['biomasa', 'carbon','cc-gnl', 'petroleo_diesel', 'eolica','solar', 'geotermia']\n",
    "t_ernc = ['eolica','solar', 'geotermia','minihidro', 'hidro_conv']\n",
    "dispnibilidad_hidro = [0.8215,0.6297,0.561]\n",
    "costo_falla = 505.5\n",
    "year = 2030 - 2016\n"
   ]
  },
  {
   "cell_type": "code",
   "execution_count": null,
   "id": "f36d7e5e",
   "metadata": {},
   "outputs": [],
   "source": [
    "index_plantas = param_centrales.index.tolist()\n",
    "index_plantas_nuevas = param_centrales_nuevas.index.tolist()  # demanda en MW (en la pasada tenia 12k en vez de 1200 xd)\n",
    "dic_bloques = {'bloque_1': {'duracion': 1200 , 'demanda' : 10233.87729},\n",
    "               'bloque_2': {'duracion': 4152 , 'demanda' : 7872.0103}, \n",
    "               'bloque_3': {'duracion': 3408 , 'demanda' : 6297.872136}}\n",
    "\n",
    "# Mostrar resumen\n",
    "print('Plantillas existentes:', index_plantas[:5])\n",
    "print('Plantillas nuevas:', index_plantas_nuevas[:5])"
   ]
  },
  {
   "cell_type": "markdown",
   "id": "40ca1931",
   "metadata": {},
   "source": [
    "## 6. Crear Modelo y Definir Conjuntos | Parámetros | Variables"
   ]
  },
  {
   "cell_type": "code",
   "execution_count": null,
   "id": "6c083c4f",
   "metadata": {},
   "outputs": [],
   "source": [
    "# Construcción del modelo Pyomo\n",
    "model = pyo.ConcreteModel()\n",
    "\n",
    "# Conjuntos\n",
    "model.CENTRALES = pyo.Set(initialize=index_plantas)\n",
    "model.CENTRALES_NUEVAS = pyo.Set(initialize=index_plantas_nuevas)\n",
    "model.BLOQUES = pyo.Set(initialize=['bloque_1','bloque_2','bloque_3'])\n",
    "\n",
    "# Parámetros en formato dict (Pyomo Any para permitir dicts anidados)\n",
    "model.param_centrales = pyo.Param(model.CENTRALES, initialize=param_centrales.to_dict(orient='index'), within=pyo.Any)\n",
    "model.param_centrales_nuevas = pyo.Param(model.CENTRALES_NUEVAS, initialize=param_centrales_nuevas.to_dict(orient='index'), within=pyo.Any)\n",
    "model.param_bloques = pyo.Param(model.BLOQUES, initialize=dic_bloques, within=pyo.Any)\n",
    "\n",
    "# Variables(todas las generaciones son en GWh y la potencia en MW)\n",
    "model.generacion_ex = pyo.Var(model.CENTRALES, model.BLOQUES, within=pyo.NonNegativeReals)\n",
    "model.generacion_nuevas = pyo.Var(model.CENTRALES_NUEVAS, model.BLOQUES, within=pyo.NonNegativeReals)\n",
    "model.potencia_in_nuevas = pyo.Var(model.CENTRALES_NUEVAS, within=pyo.NonNegativeReals)\n",
    "model.falla = pyo.Var(model.BLOQUES, within=pyo.NonNegativeReals)"
   ]
  },
  {
   "cell_type": "markdown",
   "id": "d8416947",
   "metadata": {},
   "source": [
    "## 7. Definir Funciones de Restricciones"
   ]
  },
  {
   "cell_type": "code",
   "execution_count": null,
   "id": "58816f0f",
   "metadata": {},
   "outputs": [],
   "source": [
    "# Restricciones\n",
    "def fd_hidro(bloque):\n",
    "    if bloque == 'bloque_1':\n",
    "        return dispnibilidad_hidro[0]\n",
    "    elif bloque == 'bloque_2':\n",
    "        return dispnibilidad_hidro[1]\n",
    "    else:\n",
    "        return dispnibilidad_hidro[2]\n",
    "\n",
    "def balance_demanda(model, bloque):\n",
    "    gen_ex = sum(model.generacion_ex[planta, bloque] for planta in model.CENTRALES)\n",
    "    gen_new = sum(model.generacion_nuevas[planta, bloque] for planta in model.CENTRALES_NUEVAS)\n",
    "    return (gen_ex + gen_new + model.falla[bloque]) * (1000/(1+perdida)) >= model.param_bloques[bloque]['demanda'] * model.param_bloques[bloque]['duracion']\n",
    "                                                    # el 1000 es para convertir de GWh a MWh\n",
    "\n",
    "def max_gen_ex(model, planta, bloque):\n",
    "    tec = model.param_centrales[planta]['tecnologia']\n",
    "    efi = 1.0\n",
    "    if tec in ['hidro', 'hidro_conv', 'minihidro']:\n",
    "        disp = fd_hidro(bloque)\n",
    "    else:\n",
    "        disp = model.param_centrales[planta]['disponibilidad']\n",
    "        efi = model.param_centrales[planta]['eficiencia'] or 1.0\n",
    "    # generacion está en GWh (multiplicamos por 1000  para hacer el cambio a MWh), potencia_neta_mw en MW, duracion en horas\n",
    "    return model.generacion_ex[planta, bloque]*1000 <= model.param_centrales[planta]['potencia_neta_mw'] * model.param_bloques[bloque]['duracion'] * disp\n",
    "\n",
    "def max_gen_nuevas(model, planta, bloque):\n",
    "    tec = model.param_centrales_nuevas[planta]['tecnologia']\n",
    "    efi = 1.0\n",
    "    if tec in ['hidro', 'hidro_conv', 'minihidro']:\n",
    "        disp = fd_hidro(bloque)\n",
    "    else:\n",
    "        disp = model.param_centrales_nuevas[planta]['disponibilidad']\n",
    "        efi = model.param_centrales_nuevas[planta]['eficiencia'] or 1.0\n",
    "    # generacion está en GWh (multiplicamos por 1000  para hacer el cambio a MWh), potencia_neta_mw en MW, duracion en horas\n",
    "    return model.generacion_nuevas[planta, bloque]*1000 <= model.potencia_in_nuevas[planta] * model.param_bloques[bloque]['duracion'] * disp\n",
    "\n",
    "def max_capacidad_nuevas(model, planta):\n",
    "    tec = model.param_centrales_nuevas[planta]['tecnologia']\n",
    "    if tec in t_ernc:\n",
    "        limite = model.param_centrales_nuevas[planta]['maxima_restriccion_2030_MW']\n",
    "        return model.potencia_in_nuevas[planta] <= limite if limite > 0 else pyo.Constraint.Skip\n",
    "    else:\n",
    "        return pyo.Constraint.Skip\n",
    "\n",
    "def anualidad(r, n):\n",
    "    return r / (1 - (1 + r)**(-n))\n",
    "\n",
    "# Adjuntar restricciones\n",
    "model.demanda_constraint = pyo.Constraint(model.BLOQUES, rule=balance_demanda)\n",
    "model.max_gen_constraint = pyo.Constraint(model.CENTRALES, model.BLOQUES, rule=max_gen_ex)\n",
    "model.max_gen_nuevas_constraint = pyo.Constraint(model.CENTRALES_NUEVAS, model.BLOQUES, rule=max_gen_nuevas)\n",
    "model.max_capacidad_nuevas_constraint = pyo.Constraint(model.CENTRALES_NUEVAS, rule=max_capacidad_nuevas)"
   ]
  },
  {
   "cell_type": "code",
   "execution_count": null,
   "id": "445daaf2",
   "metadata": {},
   "outputs": [],
   "source": [
    "# Función objetivo (expresiones)\n",
    "\n",
    "# Costo operación (costos variables)\n",
    "model.op_ex = pyo.Expression(expr=sum(model.generacion_ex[planta, bloque] * 1000 * # pasamos a MWh\n",
    "                                (model.param_centrales[planta]['costo_variable_nc'])\n",
    "                                 #+ model.param_centrales[planta]['costo_variable_t']) \n",
    "                                for planta in model.CENTRALES \n",
    "                                for bloque in model.BLOQUES))\n",
    "\n",
    "model.op_new = pyo.Expression(expr=sum(model.generacion_nuevas[planta, bloque] * 1000 * # pasamos a MWh\n",
    "                                       (model.param_centrales_nuevas[planta]['cvnc_usd_MWh'] \n",
    "                                        + model.param_centrales_nuevas[planta]['linea_peaje_usd_MWh']) \n",
    "                                for planta in model.CENTRALES_NUEVAS \n",
    "                                for bloque in model.BLOQUES))\n",
    "\n",
    "# Costo inversión (anualidad)\n",
    "model.inv_new = pyo.Expression(expr=sum(model.potencia_in_nuevas[planta]* anualidad(model.param_centrales_nuevas[planta]['tasa_descuento'], model.param_centrales_nuevas[planta]['vida_util_anos']) * model.param_centrales_nuevas[planta]['inversion_usd_kW_neto'] for planta in model.CENTRALES_NUEVAS))\n",
    "\n",
    "# costo FALLAS (recordar que falla está en GWh)\n",
    "model.costo_fallas = pyo.Expression(expr=sum(model.falla[bloque] * 1000 * # pasamos a MWh\n",
    "                            costo_falla for bloque in model.BLOQUES))\n",
    "\n",
    "r_df = 0.01\n",
    "df_2016_2030 = 1 / (1 + r_df)**(year)\n",
    "\n",
    "# minimizar (costo operacion + inversion + costo falla)\n",
    "model.obj = pyo.Objective(expr = df_2016_2030 * (model.op_ex + model.op_new + model.inv_new + model.costo_fallas), sense = pyo.minimize)"
   ]
  },
  {
   "cell_type": "code",
   "execution_count": null,
   "id": "0e9b5203",
   "metadata": {},
   "outputs": [],
   "source": [
    "# Resolver el modelo\n",
    "solver = pyo.SolverFactory('highs')\n",
    "solver.options['mip_rel_gap'] = tolerancia\n",
    "results = solver.solve(model, tee=True)\n",
    "print(f\"Status: {results}\")"
   ]
  },
  {
   "cell_type": "code",
   "execution_count": null,
   "id": "30068233",
   "metadata": {},
   "outputs": [],
   "source": [
    "# Mostrar resultados\n",
    "print('\\n######## Generación Existente ########')\n",
    "for planta in model.CENTRALES:\n",
    "    for bloque in model.BLOQUES:\n",
    "        print(f'Generación de {planta} en {bloque}: {model.generacion_ex[planta, bloque].value}')\n",
    "\n",
    "print('\\n######## Generación Nuevas ########')\n",
    "for planta in model.CENTRALES_NUEVAS:\n",
    "    print(f'Capacidad instalada de {planta}: {model.potencia_in_nuevas[planta].value}')\n",
    "    for bloque in model.BLOQUES:\n",
    "        print(f'Generación de {planta} en {bloque}: {model.generacion_nuevas[planta, bloque].value}')\n",
    "\n",
    "print('\\n######## Potencia Instalada Nuevas ########')\n",
    "for planta in model.CENTRALES_NUEVAS:\n",
    "    print(f'Capacidad instalada de {planta}: {model.potencia_in_nuevas[planta].value}')"
   ]
  }
 ],
 "metadata": {
  "kernelspec": {
   "display_name": "Python 3",
   "language": "python",
   "name": "python3"
  },
  "language_info": {
   "codemirror_mode": {
    "name": "ipython",
    "version": 3
   },
   "file_extension": ".py",
   "mimetype": "text/x-python",
   "name": "python",
   "nbconvert_exporter": "python",
   "pygments_lexer": "ipython3",
   "version": "3.13.1"
  }
 },
 "nbformat": 4,
 "nbformat_minor": 5
}
